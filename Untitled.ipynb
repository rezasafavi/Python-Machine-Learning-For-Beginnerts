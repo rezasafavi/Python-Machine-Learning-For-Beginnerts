{
 "cells": [
  {
   "cell_type": "markdown",
   "id": "69aa0c66",
   "metadata": {},
   "source": [
    "#  Writing Your First Program"
   ]
  },
  {
   "cell_type": "code",
   "execution_count": 1,
   "id": "984d94a9",
   "metadata": {},
   "outputs": [
    {
     "name": "stdout",
     "output_type": "stream",
     "text": [
      "WelCome to Data Visualization with Python\n"
     ]
    }
   ],
   "source": [
    "print(\"WelCome to Data Visualization with Python\")"
   ]
  },
  {
   "cell_type": "markdown",
   "id": "3d5a1f5b",
   "metadata": {},
   "source": [
    "# Python Variables and Data\tTypes"
   ]
  },
  {
   "cell_type": "code",
   "execution_count": 3,
   "id": "edc46f75",
   "metadata": {},
   "outputs": [
    {
     "name": "stdout",
     "output_type": "stream",
     "text": [
      "<class 'str'>\n",
      "<class 'int'>\n",
      "<class 'float'>\n",
      "<class 'bool'>\n",
      "<class 'list'>\n",
      "<class 'tuple'>\n",
      "<class 'dict'>\n"
     ]
    }
   ],
   "source": [
    "# A String Variable\n",
    "first_name = \"joseph\"\n",
    "print(type(first_name))\n",
    "\n",
    "# A Integer Variable\n",
    "age = 20\n",
    "print(type(age))\n",
    "\n",
    "# A Folating Point Variable\n",
    "weight = 70.35\n",
    "print(type(weight))\n",
    "\n",
    "# A boleana variable\n",
    "married = False\n",
    "print(type(married))\n",
    "\n",
    "# A list \n",
    "cars = [\"Honda\" , \"Toyota\" , \"Suzuki\"]\n",
    "print(type(cars))\n",
    "\n",
    "# Tupels\n",
    "days = ('sunday','Monday','Thesday','Wednesday','Thursday','Friday','Satarday')\n",
    "print(type(days))\n",
    "\n",
    "# Dictionarys\n",
    "days = {1:'sunday' , 2:'Monday' , 3:'Thesday' , 4:'Wednesday' ,5:'Thursday' , 6:'Friday' , 7:'Satarday'}\n",
    "print(type(days))"
   ]
  },
  {
   "cell_type": "markdown",
   "id": "4719865b",
   "metadata": {},
   "source": [
    "# Arithmatic Operation"
   ]
  },
  {
   "cell_type": "code",
   "execution_count": 4,
   "id": "813767b4",
   "metadata": {},
   "outputs": [
    {
     "name": "stdout",
     "output_type": "stream",
     "text": [
      "30\n",
      "10\n",
      "200\n",
      "2.0\n",
      "0\n",
      "10240000000000\n"
     ]
    }
   ],
   "source": [
    "x = 20\n",
    "y = 10\n",
    "print(x+y)\n",
    "print(x-y)\n",
    "print(x*y)\n",
    "print(x/y)\n",
    "print(x%y)\n",
    "print(x**y)\n"
   ]
  },
  {
   "cell_type": "markdown",
   "id": "500e5fe5",
   "metadata": {},
   "source": [
    "# Logical Operatioan"
   ]
  },
  {
   "cell_type": "code",
   "execution_count": 5,
   "id": "24de74b1",
   "metadata": {},
   "outputs": [
    {
     "name": "stdout",
     "output_type": "stream",
     "text": [
      "False\n",
      "True\n",
      "True\n"
     ]
    }
   ],
   "source": [
    "x = True\n",
    "y = False\n",
    "\n",
    "print(x and y)\n",
    "print(x or y)\n",
    "print(not(x and y))"
   ]
  },
  {
   "cell_type": "markdown",
   "id": "02bb06a4",
   "metadata": {},
   "source": [
    "# Comparison Opearator"
   ]
  },
  {
   "cell_type": "code",
   "execution_count": null,
   "id": "b274cfb7",
   "metadata": {},
   "outputs": [],
   "source": [
    "x = 20\n",
    "y = 35\n",
    "\n",
    "print(x == y)\n",
    "print(x != y)\n",
    "print(x>y)\n",
    "print(x<y)\n",
    "print(x>=y)\n",
    "print(x<=y)\n"
   ]
  },
  {
   "cell_type": "markdown",
   "id": "76176631",
   "metadata": {},
   "source": [
    "# Assignment Operators"
   ]
  },
  {
   "cell_type": "code",
   "execution_count": 2,
   "id": "2bdda7ef",
   "metadata": {},
   "outputs": [
    {
     "ename": "SyntaxError",
     "evalue": "invalid syntax. Maybe you meant '==' or ':=' instead of '='? (2633354556.py, line 1)",
     "output_type": "error",
     "traceback": [
      "\u001b[1;36m  Input \u001b[1;32mIn [2]\u001b[1;36m\u001b[0m\n\u001b[1;33m    x=20,y=10\u001b[0m\n\u001b[1;37m    ^\u001b[0m\n\u001b[1;31mSyntaxError\u001b[0m\u001b[1;31m:\u001b[0m invalid syntax. Maybe you meant '==' or ':=' instead of '='?\n"
     ]
    }
   ],
   "source": [
    "x=20,y=10\n",
    "R=x+y\n",
    "print(R)\n",
    "\n",
    "\n",
    "x=20,y=10\n",
    "x+=y\n",
    "print(x)\n",
    "\n",
    "x=20,y=10\n",
    "x-=y\n",
    "print(x)\n",
    "\n",
    "x=20,y=10\n",
    "x*=y\n",
    "print(x)\n",
    "\n",
    "x=20,y=10\n",
    "x/=y\n",
    "print(x)\n",
    "\n",
    "x=20,y=10\n",
    "x%=y\n",
    "print(x)\n",
    "\n",
    "x=20,y=10\n",
    "x**=y\n",
    "print(x)"
   ]
  },
  {
   "cell_type": "markdown",
   "id": "0da53830",
   "metadata": {},
   "source": [
    "# Membership Operators"
   ]
  },
  {
   "cell_type": "code",
   "execution_count": 5,
   "id": "f0ed2f5e",
   "metadata": {},
   "outputs": [
    {
     "name": "stdout",
     "output_type": "stream",
     "text": [
      "True\n",
      "True\n"
     ]
    }
   ],
   "source": [
    "days = ('sunday','Monday','Thesday','Wednesday','Thursday','Friday','Satarday')\n",
    "print('sunday' in days)\n",
    "print('Xunday' not in days)"
   ]
  },
  {
   "cell_type": "markdown",
   "id": "44515d50",
   "metadata": {},
   "source": [
    "# Conditional Statment"
   ]
  },
  {
   "cell_type": "markdown",
   "id": "f2e61d12",
   "metadata": {},
   "source": [
    "# IF Statment"
   ]
  },
  {
   "cell_type": "code",
   "execution_count": 6,
   "id": "78108606",
   "metadata": {},
   "outputs": [
    {
     "name": "stdout",
     "output_type": "stream",
     "text": [
      "Ten greater than 10\n"
     ]
    }
   ],
   "source": [
    "if 10>5:\n",
    "    print(\"Ten greater than 10\")"
   ]
  },
  {
   "cell_type": "code",
   "execution_count": 7,
   "id": "4fe6472d",
   "metadata": {},
   "outputs": [
    {
     "name": "stdout",
     "output_type": "stream",
     "text": [
      "10 greater than 5\n"
     ]
    }
   ],
   "source": [
    "if 5>10:\n",
    "    print(\"5 greater than 10\")\n",
    "else:\n",
    "    print(\"10 greater than 5\")"
   ]
  },
  {
   "cell_type": "code",
   "execution_count": 8,
   "id": "a9c2e1ca",
   "metadata": {},
   "outputs": [
    {
     "name": "stdout",
     "output_type": "stream",
     "text": [
      "5 is not greater than 10 and 8 iss not smaller than 4\n"
     ]
    }
   ],
   "source": [
    "if 5>10:\n",
    "    print(\"5 is greater than 10\")\n",
    "elif 8<4:\n",
    "    print(\"8 is smaller than 4\")\n",
    "else:\n",
    "    print(\"5 is not greater than 10 and 8 iss not smaller than 4\")"
   ]
  },
  {
   "cell_type": "markdown",
   "id": "026799e8",
   "metadata": {},
   "source": [
    "# Iteration Statments"
   ]
  },
  {
   "cell_type": "markdown",
   "id": "b26e71e3",
   "metadata": {},
   "source": [
    "# For\tLoop"
   ]
  },
  {
   "cell_type": "code",
   "execution_count": 1,
   "id": "c6573294",
   "metadata": {},
   "outputs": [
    {
     "name": "stdout",
     "output_type": "stream",
     "text": [
      "0\n",
      "1\n",
      "2\n",
      "3\n",
      "4\n"
     ]
    }
   ],
   "source": [
    "items = range(5)\n",
    "for item in items:\n",
    "    print(item)"
   ]
  },
  {
   "cell_type": "markdown",
   "id": "4bcc9fb8",
   "metadata": {},
   "source": [
    "# While Loop"
   ]
  },
  {
   "cell_type": "code",
   "execution_count": 2,
   "id": "7043780a",
   "metadata": {},
   "outputs": [
    {
     "name": "stdout",
     "output_type": "stream",
     "text": [
      "0\n",
      "1\n",
      "2\n",
      "3\n",
      "4\n",
      "5\n",
      "6\n",
      "7\n",
      "8\n",
      "9\n"
     ]
    }
   ],
   "source": [
    "c=0\n",
    "while c<10:\n",
    "    print(c)\n",
    "    c = c+1"
   ]
  },
  {
   "cell_type": "code",
   "execution_count": null,
   "id": "d32680b1",
   "metadata": {},
   "outputs": [],
   "source": []
  }
 ],
 "metadata": {
  "kernelspec": {
   "display_name": "Python 3 (ipykernel)",
   "language": "python",
   "name": "python3"
  },
  "language_info": {
   "codemirror_mode": {
    "name": "ipython",
    "version": 3
   },
   "file_extension": ".py",
   "mimetype": "text/x-python",
   "name": "python",
   "nbconvert_exporter": "python",
   "pygments_lexer": "ipython3",
   "version": "3.10.0"
  }
 },
 "nbformat": 4,
 "nbformat_minor": 5
}
