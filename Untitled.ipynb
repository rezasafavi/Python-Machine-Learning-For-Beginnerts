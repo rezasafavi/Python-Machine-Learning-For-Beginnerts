{
 "cells": [
  {
   "cell_type": "markdown",
   "id": "69aa0c66",
   "metadata": {},
   "source": [
    "#  Writing Your First Program"
   ]
  },
  {
   "cell_type": "code",
   "execution_count": 1,
   "id": "984d94a9",
   "metadata": {},
   "outputs": [
    {
     "name": "stdout",
     "output_type": "stream",
     "text": [
      "WelCome to Data Visualization with Python\n"
     ]
    }
   ],
   "source": [
    "print(\"WelCome to Data Visualization with Python\")"
   ]
  },
  {
   "cell_type": "markdown",
   "id": "3d5a1f5b",
   "metadata": {},
   "source": [
    "# Python Variables and Data\tTypes"
   ]
  },
  {
   "cell_type": "code",
   "execution_count": 3,
   "id": "edc46f75",
   "metadata": {},
   "outputs": [
    {
     "name": "stdout",
     "output_type": "stream",
     "text": [
      "<class 'str'>\n",
      "<class 'int'>\n",
      "<class 'float'>\n",
      "<class 'bool'>\n",
      "<class 'list'>\n",
      "<class 'tuple'>\n",
      "<class 'dict'>\n"
     ]
    }
   ],
   "source": [
    "# A String Variable\n",
    "first_name = \"joseph\"\n",
    "print(type(first_name))\n",
    "\n",
    "# A Integer Variable\n",
    "age = 20\n",
    "print(type(age))\n",
    "\n",
    "# A Folating Point Variable\n",
    "weight = 70.35\n",
    "print(type(weight))\n",
    "\n",
    "# A boleana variable\n",
    "married = False\n",
    "print(type(married))\n",
    "\n",
    "# A list \n",
    "cars = [\"Honda\" , \"Toyota\" , \"Suzuki\"]\n",
    "print(type(cars))\n",
    "\n",
    "# Tupels\n",
    "days = ('sunday','Monday','Thesday','Wednesday','Thursday','Friday','Satarday')\n",
    "print(type(days))\n",
    "\n",
    "# Dictionarys\n",
    "days = {1:'sunday' , 2:'Monday' , 3:'Thesday' , 4:'Wednesday' ,5:'Thursday' , 6:'Friday' , 7:'Satarday'}\n",
    "print(type(days))"
   ]
  },
  {
   "cell_type": "markdown",
   "id": "4719865b",
   "metadata": {},
   "source": [
    "# Arithmatic Operation"
   ]
  },
  {
   "cell_type": "code",
   "execution_count": 4,
   "id": "813767b4",
   "metadata": {},
   "outputs": [
    {
     "name": "stdout",
     "output_type": "stream",
     "text": [
      "30\n",
      "10\n",
      "200\n",
      "2.0\n",
      "0\n",
      "10240000000000\n"
     ]
    }
   ],
   "source": [
    "x = 20\n",
    "y = 10\n",
    "print(x+y)\n",
    "print(x-y)\n",
    "print(x*y)\n",
    "print(x/y)\n",
    "print(x%y)\n",
    "print(x**y)\n"
   ]
  },
  {
   "cell_type": "markdown",
   "id": "500e5fe5",
   "metadata": {},
   "source": [
    "# Logical Operatioan"
   ]
  },
  {
   "cell_type": "code",
   "execution_count": 5,
   "id": "24de74b1",
   "metadata": {},
   "outputs": [
    {
     "name": "stdout",
     "output_type": "stream",
     "text": [
      "False\n",
      "True\n",
      "True\n"
     ]
    }
   ],
   "source": [
    "x = True\n",
    "y = False\n",
    "\n",
    "print(x and y)\n",
    "print(x or y)\n",
    "print(not(x and y))"
   ]
  },
  {
   "cell_type": "markdown",
   "id": "02bb06a4",
   "metadata": {},
   "source": [
    "# Comparison Opearator"
   ]
  },
  {
   "cell_type": "code",
   "execution_count": null,
   "id": "b274cfb7",
   "metadata": {},
   "outputs": [],
   "source": [
    "x = 20\n",
    "y = 35\n",
    "\n",
    "print(x == y)\n",
    "print(x != y)\n",
    "print(x>y)\n",
    "print(x<y)\n",
    "print(x>=y)\n",
    "print(x<=y)\n"
   ]
  }
 ],
 "metadata": {
  "kernelspec": {
   "display_name": "Python 3 (ipykernel)",
   "language": "python",
   "name": "python3"
  },
  "language_info": {
   "codemirror_mode": {
    "name": "ipython",
    "version": 3
   },
   "file_extension": ".py",
   "mimetype": "text/x-python",
   "name": "python",
   "nbconvert_exporter": "python",
   "pygments_lexer": "ipython3",
   "version": "3.10.0"
  }
 },
 "nbformat": 4,
 "nbformat_minor": 5
}
